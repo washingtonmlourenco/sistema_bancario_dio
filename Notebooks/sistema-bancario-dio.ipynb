{
  "nbformat": 4,
  "nbformat_minor": 0,
  "metadata": {
    "colab": {
      "provenance": [],
      "authorship_tag": "ABX9TyP83zUw3/c00RFwb1BmowIG",
      "include_colab_link": true
    },
    "kernelspec": {
      "name": "python3",
      "display_name": "Python 3"
    },
    "language_info": {
      "name": "python"
    }
  },
  "cells": [
    {
      "cell_type": "markdown",
      "metadata": {
        "id": "view-in-github",
        "colab_type": "text"
      },
      "source": [
        "<a href=\"https://colab.research.google.com/github/washingtonmlourenco/sistema_bancario_dio/blob/main/Notebooks/sistema-bancario-dio.ipynb\" target=\"_parent\"><img src=\"https://colab.research.google.com/assets/colab-badge.svg\" alt=\"Open In Colab\"/></a>"
      ]
    },
    {
      "cell_type": "code",
      "execution_count": null,
      "metadata": {
        "id": "HdS3L4vsZ5KP"
      },
      "outputs": [],
      "source": [
        "menu = \"\"\"\n",
        "\n",
        "[d] Depositar\n",
        "[s] Sacar\n",
        "[e] Extrato\n",
        "[q] Sair\n",
        "\n",
        "=> \"\"\""
      ]
    },
    {
      "cell_type": "code",
      "source": [
        "saldo = 0\n",
        "limite = 500\n",
        "extrato = \"\"\n",
        "numero_saques = 0\n",
        "LIMITE_SAQUES = 3\n",
        "\n",
        "while True:\n",
        "  opcao = input(menu)\n",
        "\n",
        "  if opcao == \"d\":\n",
        "        valor = float(input(\"Informe o valor do depósito: \"))\n",
        "        if valor > 0:\n",
        "            saldo += valor\n",
        "            extrato += f\"Depósito: R$ {valor:.2f}\\n\"\n",
        "            print(f\"Depósito realizado com sucesso, Seu saldo Atual é : R$ {saldo:.2f}\")\n",
        "\n",
        "  if opcao == \"s\":\n",
        "        valorsaque = float(input(\"Informe o valor do saque: \"))\n",
        "        if valorsaque > 0 and valorsaque <= limite and numero_saques < LIMITE_SAQUES:\n",
        "            saldo -= valorsaque\n",
        "            extrato += f\"Saque de: R$ {valorsaque:.2f}\\n\"\n",
        "            numero_saques += 1\n",
        "            print(f\"Saque realizado com sucesso, Seu saldo Atual é : R$ {saldo:.2f}\")\n",
        "\n",
        "        elif valorsaque > limite:\n",
        "            print(\"Operação falhou! O valor do saque excede o limite.\")\n",
        "\n",
        "        elif numero_saques >= LIMITE_SAQUES:\n",
        "            print(\"Operação falhou! Número máximo de saques excedido.\")\n",
        "\n",
        "  elif opcao == \"e\":\n",
        "        print(\"\\n============ EXTRATO ============\")\n",
        "        print(\"Sem movimentações.\" if not extrato else extrato)\n",
        "        print(f\"\\nSaldo: R$ {saldo:.2f}\")\n",
        "        print(\"==================================\")\n",
        "\n",
        "  elif opcao == \"q\":\n",
        "        break\n",
        "\n",
        "  else:\n",
        "        print(\"Operação inválida, por favor selecione novamente a operação desejada.\")"
      ],
      "metadata": {
        "id": "2TUIwWYBaxIH"
      },
      "execution_count": null,
      "outputs": []
    },
    {
      "cell_type": "code",
      "source": [],
      "metadata": {
        "id": "10AcV0xEok0I"
      },
      "execution_count": null,
      "outputs": []
    }
  ]
}